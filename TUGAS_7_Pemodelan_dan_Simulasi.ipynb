{
  "nbformat": 4,
  "nbformat_minor": 0,
  "metadata": {
    "colab": {
      "provenance": [],
      "authorship_tag": "ABX9TyNMzB9MRmizvFAfJ2L6RRhm",
      "include_colab_link": true
    },
    "kernelspec": {
      "name": "python3",
      "display_name": "Python 3"
    },
    "language_info": {
      "name": "python"
    }
  },
  "cells": [
    {
      "cell_type": "markdown",
      "metadata": {
        "id": "view-in-github",
        "colab_type": "text"
      },
      "source": [
        "<a href=\"https://colab.research.google.com/github/shevaosyana/shevaosyana/blob/main/TUGAS_7_Pemodelan_dan_Simulasi.ipynb\" target=\"_parent\"><img src=\"https://colab.research.google.com/assets/colab-badge.svg\" alt=\"Open In Colab\"/></a>"
      ]
    },
    {
      "cell_type": "markdown",
      "source": [
        "Skrip Python\n"
      ],
      "metadata": {
        "id": "jkTN4gX3Zxtf"
      }
    },
    {
      "cell_type": "code",
      "source": [
        "import random\n",
        "\n",
        "# Jumlah simulasi pelemparan\n",
        "num_simulations = 10000\n",
        "\n",
        "# Variabel untuk menghitung jumlah total kasus yang menghasilkan jumlah 7\n",
        "count_sum_7 = 0\n",
        "\n",
        "# Melakukan simulasi\n",
        "for _ in range(num_simulations):\n",
        "    # Melempar dua dadu\n",
        "    die1 = random.randint(1, 6)  # Dadu pertama\n",
        "    die2 = random.randint(1, 6)  # Dadu kedua\n",
        "\n",
        "    # Memeriksa apakah jumlahnya adalah 7\n",
        "    if die1 + die2 == 7:\n",
        "        count_sum_7 += 1\n",
        "\n",
        "# Menghitung probabilitas hasilnya jumlah 7\n",
        "probability_sum_7 = count_sum_7 / num_simulations\n",
        "\n",
        "print(f\"Probabilitas munculnya jumlah 7 dalam {num_simulations} kali pelemparan dua dadu adalah {probability_sum_7:.4f}\")\n"
      ],
      "metadata": {
        "colab": {
          "base_uri": "https://localhost:8080/"
        },
        "collapsed": true,
        "id": "f5q0OA5wlXdO",
        "outputId": "2493787d-16bc-4116-e650-eb1bed52d1b5"
      },
      "execution_count": 7,
      "outputs": [
        {
          "output_type": "stream",
          "name": "stdout",
          "text": [
            "Probabilitas munculnya jumlah 7 dalam 10000 kali pelemparan dua dadu adalah 0.1717\n"
          ]
        }
      ]
    }
  ]
}