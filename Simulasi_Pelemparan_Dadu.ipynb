{
  "nbformat": 4,
  "nbformat_minor": 0,
  "metadata": {
    "colab": {
      "provenance": [],
      "authorship_tag": "ABX9TyMJrootBiY0oWXWkR9oOvtQ",
      "include_colab_link": true
    },
    "kernelspec": {
      "name": "python3",
      "display_name": "Python 3"
    },
    "language_info": {
      "name": "python"
    }
  },
  "cells": [
    {
      "cell_type": "markdown",
      "metadata": {
        "id": "view-in-github",
        "colab_type": "text"
      },
      "source": [
        "<a href=\"https://colab.research.google.com/github/shevaosyana/shevaosyana/blob/main/Simulasi_Pelemparan_Dadu.ipynb\" target=\"_parent\"><img src=\"https://colab.research.google.com/assets/colab-badge.svg\" alt=\"Open In Colab\"/></a>"
      ]
    },
    {
      "cell_type": "markdown",
      "source": [
        "Simulasi Pelemparan Dadu\n",
        "\n",
        "Model ini mensimulasikan pelemparan dadu berulang kali untuk memperkirakan probabilitas munculnya angka tertentu. Ini adalah contoh sederhana dari simulasi Monte Carlo, yang digunakan untuk memperkirakan hasil berdasarkan percobaan acak.\n",
        "\n",
        "Langkah-langkah:\n",
        "Simulasi Pelemparan Dadu: Peneliti menggunakan program komputer untuk mensimulasikan pelemparan dadu sebanyak 10.000 kali. Dalam simulasi ini, setiap pelemparan dadu akan menghasilkan salah satu angka antara 3 hingga 10.\n",
        "\n",
        "Menghitung Kemunculan Angka Tertentu: Setelah melakukan simulasi, peneliti ingin mengetahui berapa kali angka 10 muncul dalam 10.000 pelemparan dadu tersebut, dan menghitung probabilitas kemunculannya.\n",
        "\n",
        "Visualisasi Hasil: Peneliti juga ingin memvisualisasikan distribusi frekuensi kemunculan angka-angka pada dadu (3 hingga 10) selama simulasi.\n",
        "\n",
        "Menghitung probabilitas kemunculan angka 10 dalam simulasi pelemparan dadu, serta jumlah kemunculan angka 3 dalam 10.000 pelemparan, kemudian menggambarkan histogram yang menunjukkan frekuensi kemunculan angka-angka pada dadu antara 3 hingga 10.\n",
        "\n",
        "Langkah-langkah:\n",
        "Simulasikan pelemparan dadu yang menghasilkan angka acak antara 3 hingga 10.\n",
        "Hitung jumlah kemunculan angka 10.\n",
        "Buat histogram untuk menunjukkan frekuensi kemunculan angka-angka antara 3 hingga 10.\n",
        "\n",
        "Implementasi di Google Colab:"
      ],
      "metadata": {
        "id": "jkTN4gX3Zxtf"
      }
    },
    {
      "cell_type": "markdown",
      "source": [
        " Import Library:\n",
        "\n",
        "\n"
      ],
      "metadata": {
        "id": "NFp8X1MbcXvw"
      }
    },
    {
      "cell_type": "code",
      "source": [
        "import numpy as np\n",
        "import matplotlib.pyplot as plt"
      ],
      "metadata": {
        "id": "jA1CaTM5cfg4"
      },
      "execution_count": 26,
      "outputs": []
    },
    {
      "cell_type": "markdown",
      "source": [
        "\n",
        "Parameter Model:"
      ],
      "metadata": {
        "id": "aaT4XTq8ckTR"
      }
    },
    {
      "cell_type": "code",
      "source": [
        "\n",
        "# Jumlah pelemparan dadu\n",
        "n = 10000"
      ],
      "metadata": {
        "id": "6JWg9vLocqvw"
      },
      "execution_count": 27,
      "outputs": []
    },
    {
      "cell_type": "markdown",
      "source": [
        "Simulasi Pelemparan Dadu\n",
        "\n",
        "\n",
        "\n",
        "\n",
        "\n",
        "\n",
        "\n",
        "\n"
      ],
      "metadata": {
        "id": "szvor88Acxe4"
      }
    },
    {
      "cell_type": "code",
      "source": [
        "# Simulasi pelemparan dadu, angka antara 3 dan 10\n",
        "pelemparan_dadu = np.random.randint(3, 11, size=n)"
      ],
      "metadata": {
        "id": "abWGFBLec1co"
      },
      "execution_count": 28,
      "outputs": []
    },
    {
      "cell_type": "markdown",
      "source": [
        "Hitung Jumlah Kemunculan Angka Target\n",
        "\n",
        "\n",
        "\n"
      ],
      "metadata": {
        "id": "4edoJefrdJao"
      }
    },
    {
      "cell_type": "code",
      "source": [
        "\n",
        "# Menghitung jumlah kemunculan angka 10\n",
        "jumlah_sepuluh = np.sum(pelemparan_dadu == 10)\n"
      ],
      "metadata": {
        "collapsed": true,
        "id": "RlMRYH3MdM3h"
      },
      "execution_count": 29,
      "outputs": []
    },
    {
      "cell_type": "markdown",
      "source": [
        "Tampilkan Hasil"
      ],
      "metadata": {
        "id": "SIm6GmQHk0vB"
      }
    },
    {
      "cell_type": "code",
      "source": [
        "# Menampilkan probabilitas kemunculan angka 10\n",
        "probabilitas_sepuluh = jumlah_sepuluh / n\n",
        "print(f\"Probabilitas kemunculan angka 10: {probabilitas_sepuluh}\")"
      ],
      "metadata": {
        "colab": {
          "base_uri": "https://localhost:8080/"
        },
        "collapsed": true,
        "id": "4Go7IK8xsHrf",
        "outputId": "27074ace-dad2-48b3-9083-cf3e593f5284"
      },
      "execution_count": 30,
      "outputs": [
        {
          "output_type": "stream",
          "name": "stdout",
          "text": [
            "Probabilitas kemunculan angka 10: 0.1255\n"
          ]
        }
      ]
    },
    {
      "cell_type": "markdown",
      "source": [
        "Visualisasi Hasil Pelemparan Dadu"
      ],
      "metadata": {
        "id": "1o4_tSKWzMyB"
      }
    },
    {
      "cell_type": "code",
      "source": [
        "plt.hist(pelemparan_dadu, bins=np.arange(2.5, 11.5, 1), edgecolor='black', align='mid')\n",
        "plt.xlabel('Angka pada Dadu')\n",
        "plt.ylabel('Frekuensi')\n",
        "plt.title('Histogram Kemunculan Angka pada Dadu (3 hingga 10)')\n",
        "plt.xticks(np.arange(3, 11, 1))\n",
        "print(f\"Jumlah kemunculan angka 10 dalam {n} pelemparan: {jumlah_sepuluh}\")\n",
        "plt.show()"
      ],
      "metadata": {
        "colab": {
          "base_uri": "https://localhost:8080/",
          "height": 490
        },
        "collapsed": true,
        "id": "cspIeKZQzQ4p",
        "outputId": "ed0aefa0-d2be-45a9-c484-9f0f04b2aed6"
      },
      "execution_count": 31,
      "outputs": [
        {
          "output_type": "stream",
          "name": "stdout",
          "text": [
            "Jumlah kemunculan angka 10 dalam 10000 pelemparan: 1255\n"
          ]
        },
        {
          "output_type": "display_data",
          "data": {
            "text/plain": [
              "<Figure size 640x480 with 1 Axes>"
            ],
            "image/png": "[encoded data removed]"
          },
          "metadata": {}
        }
      ]
    }
  ]
}